{
 "cells": [
  {
   "cell_type": "code",
   "execution_count": 1,
   "metadata": {},
   "outputs": [],
   "source": [
    "import requests\n",
    "from bs4 import BeautifulSoup\n",
    "import pandas as pd"
   ]
  },
  {
   "cell_type": "code",
   "execution_count": 3,
   "metadata": {},
   "outputs": [
    {
     "name": "stdout",
     "output_type": "stream",
     "text": [
      "{'name': 'Bitcoin', 'price_value': '$60,209.30', 'percent_1h': '0.10%', 'percent_24h': '0.29%', 'percent_7d': '2.69%', 'market_cap': '$1,188,153,364,330', 'volume_24h': '301,315 BTC', 'circulating_supply': '19,738,500 BTC'}\n",
      "{'name': 'Ethereum', 'price_value': '$2,627.55', 'percent_1h': '0.53%', 'percent_24h': '0.83%', 'percent_7d': '6.52%', 'market_cap': '$315,884,550,130', 'volume_24h': '4,229,394 ETH', 'circulating_supply': '120,267,846 ETH'}\n",
      "{'name': 'BNB', 'price_value': '$521.66', 'percent_1h': '0.18%', 'percent_24h': '0.91%', 'percent_7d': '3.97%', 'market_cap': '$76,145,904,709', 'volume_24h': '2,910,612 BNB', 'circulating_supply': '145,936,560 BNB'}\n"
     ]
    }
   ],
   "source": [
    "def extract_table_to_csv(url, list_crypto):\n",
    "\n",
    "    response = requests.get(url)\n",
    "    \n",
    "    soup = BeautifulSoup(response.content, 'html.parser')\n",
    "    \n",
    "    table = soup.find('table')\n",
    "    \n",
    "    rows = table.find_all('tr')\n",
    "    \n",
    "    headList = rows[0].find_all(['th', 'td']);\n",
    "    headers = [header.get_text(strip=True) for header in headList[2:]]\n",
    "\n",
    "    data = []\n",
    "    for row in rows[1:]:\n",
    "        cells = row.find_all(['td', 'th'])\n",
    "       \n",
    "        nameCrypto = cells[2].find('p');\n",
    "        if(nameCrypto \n",
    "           and nameCrypto.get_text()in list_crypto ):\n",
    "        \n",
    "            name = nameCrypto.get_text()\n",
    "            price_value = cells[3].get_text()\n",
    "            percent_1h = cells[4].get_text()\n",
    "            percent_24h = cells[5].get_text()\n",
    "            percent_7d = cells[6].get_text()\n",
    "            market_cap = cells[7].find_all(['span'])[1].get_text()\n",
    "            volume_24h = cells[8].find_all(['p'])[1].get_text()\n",
    "            circulating_supply = cells[9].get_text()\n",
    "            print({\"name\":name,\"price_value\":price_value,\"percent_1h\":percent_1h,\"percent_24h\":percent_24h,\"percent_7d\":percent_7d,\"market_cap\":market_cap,\"volume_24h\":volume_24h,\"circulating_supply\":circulating_supply});\n",
    "\n",
    "url = 'https://coinmarketcap.com'\n",
    "list_crypto = ['Bitcoin','Ethereum','BNB']\n",
    "extract_table_to_csv(url, list_crypto)"
   ]
  }
 ],
 "metadata": {
  "kernelspec": {
   "display_name": "base",
   "language": "python",
   "name": "python3"
  },
  "language_info": {
   "codemirror_mode": {
    "name": "ipython",
    "version": 3
   },
   "file_extension": ".py",
   "mimetype": "text/x-python",
   "name": "python",
   "nbconvert_exporter": "python",
   "pygments_lexer": "ipython3",
   "version": "3.10.9"
  }
 },
 "nbformat": 4,
 "nbformat_minor": 2
}
