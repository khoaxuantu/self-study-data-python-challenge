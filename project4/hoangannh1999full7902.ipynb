{
 "cells": [
  {
   "cell_type": "code",
   "execution_count": 4,
   "id": "754e91f2",
   "metadata": {
    "scrolled": true
   },
   "outputs": [
    {
     "name": "stdout",
     "output_type": "stream",
     "text": [
      "Không tìm thấy dữ liệu cho Bitcoin.\n",
      "Không tìm thấy dữ liệu cho Ethereum.\n",
      "Không tìm thấy dữ liệu cho BNB.\n",
      "Empty DataFrame\n",
      "Columns: [Tên tiền điện tử, Giá, 1h %, 24h %, 7d %, Vốn hóa thị trường, Khối lượng giao dịch trong 24h, Thời gian]\n",
      "Index: []\n"
     ]
    }
   ],
   "source": [
    "import requests\n",
    "from bs4 import BeautifulSoup\n",
    "import pandas as pd\n",
    "from datetime import datetime\n",
    "\n",
    "def scrape_crypto_data(crypto_names):\n",
    "    url = 'https://coinmarketcap.com/'\n",
    "    page = requests.get(url)\n",
    "    soup = BeautifulSoup(page.content, 'html.parser')\n",
    "    \n",
    "    data = []\n",
    "    for crypto in crypto_names:\n",
    "        # Tìm tất cả các hàng chứa dữ liệu về tiền điện tử\n",
    "        rows = soup.find_all('tr')\n",
    "        \n",
    "        found = False\n",
    "        for row in rows:\n",
    "            # Tìm trong mỗi hàng nếu có tên tiền điện tử\n",
    "            if row.find('a', string=crypto):\n",
    "                # Trích xuất dữ liệu từ các cột trong hàng\n",
    "                price = row.find('td', {'class': 'price'}).text.strip() if row.find('td', {'class': 'price'}) else 'N/A'\n",
    "                hour_change = row.find('td', {'class': 'percent-change', 'data-timespan': '1h'}).text.strip() if row.find('td', {'class': 'percent-change', 'data-timespan': '1h'}) else 'N/A'\n",
    "                day_change = row.find('td', {'class': 'percent-change', 'data-timespan': '24h'}).text.strip() if row.find('td', {'class': 'percent-change', 'data-timespan': '24h'}) else 'N/A'\n",
    "                week_change = row.find('td', {'class': 'percent-change', 'data-timespan': '7d'}).text.strip() if row.find('td', {'class': 'percent-change', 'data-timespan': '7d'}) else 'N/A'\n",
    "                market_cap = row.find('td', {'class': 'market-cap'}).text.strip() if row.find('td', {'class': 'market-cap'}) else 'N/A'\n",
    "                volume = row.find('td', {'class': 'volume'}).text.strip() if row.find('td', {'class': 'volume'}) else 'N/A'\n",
    "                \n",
    "                # Thêm dữ liệu vào danh sách với dấu thời gian\n",
    "                timestamp = datetime.now().strftime('%Y-%m-%d %H:%M:%S')\n",
    "                data.append([crypto, price, hour_change, day_change, week_change, market_cap, volume, timestamp])\n",
    "                \n",
    "                found = True\n",
    "                break\n",
    "        \n",
    "        if not found:\n",
    "            print(f\"Không tìm thấy dữ liệu cho {crypto}.\")\n",
    "    \n",
    "    # Chuyển đổi sang DataFrame của pandas\n",
    "    columns = ['Tên tiền điện tử', 'Giá', '1h %', '24h %', '7d %', 'Vốn hóa thị trường', 'Khối lượng giao dịch trong 24h', 'Thời gian']\n",
    "    df = pd.DataFrame(data, columns=columns)\n",
    "    \n",
    "    return df\n",
    "\n",
    "# Ví dụ sử dụng\n",
    "crypto_list = ['Bitcoin', 'Ethereum', 'BNB']\n",
    "df = scrape_crypto_data(crypto_list)\n",
    "print(df)\n"
   ]
  }
 ],
 "metadata": {
  "kernelspec": {
   "display_name": "Python 3 (ipykernel)",
   "language": "python",
   "name": "python3"
  },
  "language_info": {
   "codemirror_mode": {
    "name": "ipython",
    "version": 3
   },
   "file_extension": ".py",
   "mimetype": "text/x-python",
   "name": "python",
   "nbconvert_exporter": "python",
   "pygments_lexer": "ipython3",
   "version": "3.11.7"
  }
 },
 "nbformat": 4,
 "nbformat_minor": 5
}
