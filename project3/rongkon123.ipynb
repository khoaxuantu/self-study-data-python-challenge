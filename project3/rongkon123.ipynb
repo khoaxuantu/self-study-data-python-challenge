{
 "cells": [
  {
   "cell_type": "code",
   "execution_count": 7,
   "id": "d359e27a-27c4-4ddf-94eb-facf63ce9fc8",
   "metadata": {},
   "outputs": [
    {
     "name": "stdout",
     "output_type": "stream",
     "text": [
      "Sắp xếp tệp hoàn tất.\n"
     ]
    }
   ],
   "source": [
    "import os\n",
    "import shutil\n",
    "import zipfile\n",
    "\n",
    "# Địa chỉ tệp ZIP\n",
    "zip_file_path = \"D:\\\\1. HungMVK\\\\project 3.zip\"\n",
    "# Đường dẫn đến thư mục sau khi giải nén\n",
    "project_folder = \"D:\\\\1. HungMVK\\\\project_3\"\n",
    "\n",
    "# Giải nén tệp ZIP nếu thư mục chưa tồn tại\n",
    "if not os.path.exists(project_folder):\n",
    "    with zipfile.ZipFile(zip_file_path, 'r') as zip_ref:\n",
    "        zip_ref.extractall(project_folder)\n",
    "\n",
    "# Danh sách tên tệp\n",
    "file_names = [\n",
    "    \"angrycat.jpg\",\n",
    "    \"CSVFile.csv\",\n",
    "    \"FakeFile.csv\",\n",
    "    \"FakeFile.txt\",\n",
    "    \"Max.png\",\n",
    "    \"NewFile.tsv\",\n",
    "    \"NewFile.txt\",\n",
    "    \"Rosie.png\",\n",
    "    \"Hung.pdf\",\n",
    "    \"Hung.docx\"\n",
    "]\n",
    "\n",
    "# Kiểm tra xem thư mục project_folder có tồn tại không\n",
    "if not os.path.exists(project_folder):\n",
    "    print(f\"Thư mục {project_folder} không tồn tại.\")\n",
    "else:\n",
    "    # Chuyển đến thư mục project_folder\n",
    "    os.chdir(project_folder)\n",
    "\n",
    "    # Tạo thư mục cho từng loại tệp nếu chưa tồn tại\n",
    "    folders = {\n",
    "        \"images\": [\"jpg\", \"png\"],\n",
    "        \"csv_files\": [\"csv\"],\n",
    "        \"text_files\": [\"txt\"],\n",
    "        \"tsv_files\": [\"tsv\"],\n",
    "        \"pdf_files\": [\"pdf\"],\n",
    "        \"doc_files\": [\"doc\", \"docx\"]\n",
    "    }\n",
    "\n",
    "    for folder in folders.keys():\n",
    "        if not os.path.exists(folder):\n",
    "            os.makedirs(folder)\n",
    "\n",
    "    # Sắp xếp các tệp vào thư mục tương ứng\n",
    "    for file_name in file_names:\n",
    "        if os.path.isfile(file_name):  # Kiểm tra xem tệp có tồn tại không\n",
    "            extension = file_name.split(\".\")[-1]\n",
    "            moved = False\n",
    "            \n",
    "            for folder, exts in folders.items():\n",
    "                if extension in exts:\n",
    "                    shutil.move(file_name, os.path.join(folder, file_name))\n",
    "                    moved = True\n",
    "                    break\n",
    "\n",
    "            if not moved:\n",
    "                print(f\"Loại tệp của {file_name} chưa được hỗ trợ.\")\n",
    "        else:\n",
    "            print(f\"Tệp {file_name} không tồn tại trong thư mục {project_folder}.\")\n",
    "\n",
    "    print(\"Sắp xếp tệp hoàn tất.\")\n"
   ]
  },
  {
   "cell_type": "code",
   "execution_count": null,
   "id": "2580235c-3651-497d-b138-946fedfaece5",
   "metadata": {},
   "outputs": [],
   "source": []
  }
 ],
 "metadata": {
  "kernelspec": {
   "display_name": "Python 3 (ipykernel)",
   "language": "python",
   "name": "python3"
  },
  "language_info": {
   "codemirror_mode": {
    "name": "ipython",
    "version": 3
   },
   "file_extension": ".py",
   "mimetype": "text/x-python",
   "name": "python",
   "nbconvert_exporter": "python",
   "pygments_lexer": "ipython3",
   "version": "3.12.4"
  }
 },
 "nbformat": 4,
 "nbformat_minor": 5
}
