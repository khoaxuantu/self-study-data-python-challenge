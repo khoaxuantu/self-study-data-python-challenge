{
 "cells": [
  {
   "cell_type": "code",
   "execution_count": 1,
   "id": "dbe8afd8-d1bf-40bf-896b-0618de1bee50",
   "metadata": {},
   "outputs": [
    {
     "name": "stdout",
     "output_type": "stream",
     "text": [
      "Files organized successfully.\n"
     ]
    }
   ],
   "source": [
    "import os\n",
    "import shutil\n",
    "\n",
    "# Define the directory to organize\n",
    "directory_to_organize = r'C:\\Users\\nguye\\Desktop\\NPNTU\\thuchanhpy\\Project 3-20240804T051826Z-001\\Project 3'\n",
    "\n",
    "# Define file types and their corresponding folders\n",
    "file_types = {\n",
    "    'Images': ['.jpg', '.jpeg', '.png', '.gif', '.bmp', '.tiff', '.svg'],\n",
    "    'Documents': ['.pdf', '.doc', '.docx', '.xls', '.xlsx', '.ppt', '.pptx', '.txt', '.csv', '.rtf'],\n",
    "    'Videos': ['.mp4', '.mov', '.avi', '.mkv', '.flv', '.wmv', '.mpeg'],\n",
    "    'Compressed': ['.zip', '.rar', '.7z', '.tar', '.gz'],\n",
    "    'Audio': ['.mp3', '.wav', '.aac', '.flac', '.ogg', '.m4a'],\n",
    "    'Executables': ['.exe', '.bat', '.sh', '.bin', '.msi']\n",
    "}  \n",
    "\n",
    "# Create folders if they don't exist\n",
    "for folder in file_types.keys():\n",
    "    folder_path = os.path.join(directory_to_organize, folder)\n",
    "    if not os.path.exists(folder_path):\n",
    "        os.makedirs(folder_path)\n",
    "\n",
    "# Organize files\n",
    "for file_name in os.listdir(directory_to_organize):\n",
    "    file_path = os.path.join(directory_to_organize, file_name)\n",
    "    \n",
    "    if os.path.isfile(file_path):\n",
    "        file_extension = os.path.splitext(file_name)[1].lower()\n",
    "        \n",
    "        for folder, extensions in file_types.items():\n",
    "            if file_extension in extensions:\n",
    "                destination = os.path.join(directory_to_organize, folder, file_name)\n",
    "                shutil.move(file_path, destination)\n",
    "                break\n",
    "\n",
    "print(\"Files organized successfully.\")\n",
    "\n",
    "# Good job on completing this project. Here are some points to improve your code:\n",
    "'''\n",
    "Handling Files Without Extensions: Files without extensions or with unusual formats might be left unorganized. You could consider adding a check to handle these cases, either by moving them to a separate \"Miscellaneous\" folder or leaving them in the root directory.\n",
    "Overwriting Files: If a file with the same name already exists in the destination folder, shutil.move will overwrite it without warning. You might want to include logic to rename files or check for duplicates before moving them.\n",
    "Case Sensitivity: While you handle file extensions using .lower(), ensure that filenames and extensions from different platforms are handled consistently.\n",
    "'''\n"
   ]
  }
 ],
 "metadata": {
  "kernelspec": {
   "display_name": "Python 3 (ipykernel)",
   "language": "python",
   "name": "python3"
  },
  "language_info": {
   "codemirror_mode": {
    "name": "ipython",
    "version": 3
   },
   "file_extension": ".py",
   "mimetype": "text/x-python",
   "name": "python",
   "nbconvert_exporter": "python",
   "pygments_lexer": "ipython3",
   "version": "3.12.1"
  }
 },
 "nbformat": 4,
 "nbformat_minor": 5
}
