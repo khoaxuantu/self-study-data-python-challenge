{
 "cells": [
  {
   "cell_type": "markdown",
   "id": "dd2d9064-e966-4e13-97c3-55617e8f0cee",
   "metadata": {},
   "source": [
    "#### (Header 5) "
   ]
  },
  {
   "cell_type": "markdown",
   "id": "72d3c166-1db7-474b-b359-20a7bcc34a8b",
   "metadata": {},
   "source": [
    "#### (Header 5) "
   ]
  },
  {
   "cell_type": "code",
   "execution_count": null,
   "id": "1731564b-2c4f-4c1e-b304-c33a09deab24",
   "metadata": {
    "scrolled": true
   },
   "outputs": [],
   "source": [
    "import os\n",
    "\n",
    "def getFileExt(path):\n",
    "    # Define the destination directories for different file types\n",
    "    file_types = {\n",
    "        '.tsv': 'tsv',\n",
    "        '.jpg': 'Images-jpg',\n",
    "        '.jpeg': 'Images-jpeg',\n",
    "        '.png': 'Images-png',\n",
    "        '.gif': 'Images',\n",
    "        '.pdf': 'Documents',\n",
    "        '.docx': 'Documents',\n",
    "        '.doc': 'Documents',\n",
    "        '.txt': 'Documents',\n",
    "        '.pptx': 'Documents',\n",
    "        '.xlsx': 'Documents',\n",
    "        '.mp4': 'Videos',\n",
    "        '.avi': 'Videos',\n",
    "        '.mkv': 'Videos',\n",
    "        '.mov': 'Videos',\n",
    "        '.mp3': 'Audio',\n",
    "        '.wav': 'Audio',\n",
    "        '.zip': 'Compressed',\n",
    "        '.rar': 'Compressed',\n",
    "        '.exe': 'Executables',\n",
    "        '.csv': 'csv'\n",
    "    }\n",
    "\n",
    "    for file in os.listdir(path):\n",
    "        try:\n",
    "            filename = os.path.basename(file)\n",
    "            pathf = os.path.join(path, filename)\n",
    "            ext = os.path.splitext(filename)[1].lower() \n",
    "\n",
    "            if ext in file_types:\n",
    "                newDir = os.path.join(path, file_types[ext])\n",
    "                if not os.path.exists(newDir):\n",
    "                    os.makedirs(newDir)\n",
    "                newname = os.path.join(newDir, filename)\n",
    "                print(f\"Moving: {pathf} to {newname}\")\n",
    "                os.rename(pathf, newname)\n",
    "        except Exception as e:\n",
    "            print(f\"Error processing file {file}: {e}\")\n",
    "\n",
    "getFileExt(r\"C:\\Users\\TIEN\\Desktop\\pythonLap\\Project33\\Project 3\")\n",
    "\n",
    "# Review:\n",
    "# While the try-except block helps catch errors, it might be better to handle specific exceptions separately, such as permission errors or file not found issues. This way, you can provide more detailed feedback to the user.\n",
    "# The script uses os.rename to move files, but it doesn't check if a file with the same name already exists in the destination directory. You could add logic to rename the file if a conflict is detected, preventing accidental overwrites."
   ]
  },
  {
   "cell_type": "code",
   "execution_count": null,
   "id": "61d48125-4b33-44c1-b3cc-48a02a8c1713",
   "metadata": {},
   "outputs": [],
   "source": []
  },
  {
   "cell_type": "code",
   "execution_count": null,
   "id": "9e802c6a-04c9-4d88-8fa0-fec83756ba40",
   "metadata": {},
   "outputs": [],
   "source": []
  }
 ],
 "metadata": {
  "kernelspec": {
   "display_name": "Python 3 (ipykernel)",
   "language": "python",
   "name": "python3"
  },
  "language_info": {
   "codemirror_mode": {
    "name": "ipython",
    "version": 3
   },
   "file_extension": ".py",
   "mimetype": "text/x-python",
   "name": "python",
   "nbconvert_exporter": "python",
   "pygments_lexer": "ipython3",
   "version": "3.12.1"
  }
 },
 "nbformat": 4,
 "nbformat_minor": 5
}
